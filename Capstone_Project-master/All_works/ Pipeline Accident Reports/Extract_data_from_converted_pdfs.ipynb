{
 "cells": [
  {
   "cell_type": "code",
   "execution_count": 1,
   "metadata": {},
   "outputs": [],
   "source": [
    "import pandas as pd\n",
    "import numpy as np\n",
    "import re\n",
    "# import pycountry\n",
    "from textblob import TextBlob\n",
    "from calendar import month_name\n",
    "from collections import Counter\n"
   ]
  },
  {
   "cell_type": "code",
   "execution_count": 2,
   "metadata": {
    "collapsed": true
   },
   "outputs": [],
   "source": [
    "import glob\n",
    "\n",
    "text_lst = []\n",
    "for i,filename in enumerate(glob.glob('PAB_text_files/*')):\n",
    "    try: \n",
    "        with open(filename) as f:\n",
    "            text_lst.append(f.read())\n",
    "    except:\n",
    "        print(\"Can't read file: \", filename)"
   ]
  },
  {
   "cell_type": "code",
   "execution_count": 3,
   "metadata": {},
   "outputs": [
    {
     "data": {
      "text/plain": [
       "16"
      ]
     },
     "execution_count": 3,
     "metadata": {},
     "output_type": "execute_result"
    }
   ],
   "source": [
    "len(text_lst)"
   ]
  },
  {
   "cell_type": "code",
   "execution_count": 4,
   "metadata": {},
   "outputs": [
    {
     "data": {
      "text/plain": [
       "'A L   T\\n\\n \\n\\nN\\nO\\nI\\nT\\nA\\n\\nN\\n\\n \\n\\nR A SP\\n\\nN\\n \\n\\nO\\n\\nL U R IBUS UNUM  \\n\\nE P\\n\\nR\\n\\nT\\n\\nA\\n\\nT\\n\\nI\\n\\nO\\nN\\n\\nNational Transportation Safety Board\\n\\nWashington, D.C. 20594\\n\\nS\\n\\nA\\n\\nFETY\\n\\n \\n\\n B O A R D\\n\\nAccident No.:\\nType of System:\\nType of Accident:\\nLocation:\\nDate and Time:\\nOwner/Operator:\\nProperty Damage and Losses:\\nFatalities:\\nInjuries:\\nMaterial Released:\\nPressure:\\nType of Failure:\\nComponent Affected:\\n\\nThe Accident\\n\\nPipeline Accident Brief\\n\\nDCA-99-MP-004\\nNatural gas service line\\nRupture, explosion, and fire\\nBridgeport, Alabama\\nJanuary 22, 1999, 10:02 a.m. CST\\nUtilities Board of the City of Bridgeport\\n$1.4 million\\n3\\n6\\nNatural gas\\n35 psig\\nExcavation damage\\n¾-inch steel gas service line\\n\\nOn January 22, 1999, while digging a trench behind a building  at  406  Alabama\\nAvenue, a backhoe operator damaged a ¾-inch steel natural gas service line and a 1-inch\\nwater service line.  This resulted in two leaks in the natural gas service line, which was\\noperated  at  35  psig.    One  leak  occurred  where  the  backhoe  bucket  had  contacted  and\\npulled the natural gas service line.  (See figure 1.)  The other was a physical separation of\\nthe  gas  service  line  at  an  underground  joint  near  the  meter,  which  was  close  to  the\\nbuilding.  Gas migrated into the building at 406 Alabama Avenue, where it ignited about\\n10:02  a.m.    An  explosion  followed,  destroying  three  buildings:    404,  406,  and\\n408 Alabama  Avenue  (see  figure  2).    Other  buildings  within  a  two-block  area  of  the\\nexplosion sustained significant damage.  Three fatalities, five serious injuries,1 and  one\\nminor injury resulted from this accident.\\n\\n                                                \\n\\n1  According  to  the  Jackson  County  Coroner,  on  March  23,  2000,  14  months  and  1  day  after  the\\naccident,  one  of  the  seriously  injured  persons  died  as  a  result  of  injuries  sustained  in  the  explosion.    In\\naccordance  with  49  Code  of  Federal  Regulations  (CFR)  830.2,  his  injuries  continue  to  be  classified  as\\n“serious” for reporting purposes.  Title 49 CFR 830.2 defines fatal injury as “any injury which results in\\ndeath within 30 days of the accident.”\\n\\nNTSB/PAB-00/01\\n\\n\\x0c2\\n\\nFigure  1.  Damaged  section  of  the  gas  service  line  to  406  Alabama  Avenue.\\n(Arrow shows leak location. Note how the bowed area corresponds with the width of a\\nbackhoe bucket.)\\n\\nFigure 2. Damage to 404, 406, and 408 Alabama Avenue\\n\\nNTSB/PAB-00/01\\n\\n\\x0cPreaccident Events\\n\\n3\\n\\nThe owner of R&B Construction (R&B) told investigators that the owner of 408\\nAlabama  Avenue  had  hired  R&B  to  dig  a  trench  from  an  electric  pole  behind  404\\nAlabama Avenue to his building for an underground electric service cable.  (See figure 3.)\\nThe owner of R&B told investigators that he had not planned beforehand to dig the trench\\nto  408  Alabama  Avenue  on  the  morning  of  the  accident  and  that  he  did  not  call  the\\nAlabama  Line  Location  Center,  Inc.2    However,  when  a  part-time  employee,  who  had\\noperated a backhoe for R&B in the past, arrived at the R&B office the morning of January\\n22 looking for work, the owner of R&B decided to have the employee dig the trench that\\nday.\\n\\nFigure 3. Schematic of accident area\\n\\nThe owner of R&B was a full-time employee of the Utilities Board of the City of\\nBridgeport  (Utilities  Board)  at  the  time  of  the  accident.3    He  and  a  Utilities  Board\\ncoworker,  who  was  the  acting  supervisor  of  the  Utilities  Board  field  personnel  on  the\\nmorning  of  the  accident,  told  Safety  Board  investigators  that  on  the  way  to  work  that\\nmorning,  they  located  and  marked  the  gas  and  water  service  lines  for  the  trenching\\n\\n                                                \\n\\n2 Since the accident, the Alabama Line Location Center has been redesignated Alabama One Call.\\n3 The Utilities Board owns and operates Bridgeport’s water and natural gas distribution systems.\\n\\nNTSB/PAB-00/01\\n\\n\\x0c4\\n\\nactivity.    The  owner  of  R&B  told  investigators  that  blue  paint  was  used  to  mark  both\\nservice lines because that was the only paint that they had.4  Upon their arrival the day\\nafter  the  explosion,  Safety  Board  investigators  could  not  find  any  blue  or  other  line\\nmarkings on the ground at the accident scene. Representatives from the Alabama Public\\nService  Commission  and  the  Alabama  State  Fire  Marshals  Office  also  did  not  observe\\nany markings on the ground when they arrived at the accident scene within hours of the\\nexplosion.\\n\\nThe  owner  of  R&B  and  the  acting  supervisor  left  the  excavation  site  about\\n8:15 a.m. to go to the Utilities Board shop.  They told investigators that, before they left,\\nthey had asked the owner of 408 Alabama Avenue to watch the backhoe operator.  The\\nR&B backhoe operator arrived at the excavation  site  some  time  after  8:15  a.m.    While\\ndigging the trench, the backhoe operator damaged the underground gas and water service\\nlines to 406 Alabama Avenue, resulting in leaks in the water and gas service lines.  About\\n9:15  a.m.,  the  owner  of  408  Alabama  Avenue  went  to  the  Utilities  Board  office  at\\n513 Alabama  Avenue  and  reported  the  excavation  damage.    He  then  returned  to  the\\nexcavation  site.    The  General  Manager  of  the  Utilities  Board  said  the  owner  of\\n408 Alabama  Avenue  reported  that  the  water  line  and  possibly  the  gas  line  were\\ndamaged.\\n\\nThe Utilities Board paged its field personnel between 9:18 and 9:22 a.m.  Shortly\\nafterward,  five  Utilities  Board  employees  responded  to  the  excavation  site  from  three\\nlocations to locate and repair the leaks.  One of the Utilities Board employees told Safety\\nBoard investigators that upon his arrival at the accident scene, the R&B backhoe operator\\nshowed him where he had wrapped black tape over the leak in the gas service line.  In\\naddition, he and other Utilities Board employees noticed that water was running on the\\nground.  They could hear the hissing of leaking gas and smell a strong natural gas odor in\\nthe general area.\\n\\nThe Utilities Board employee who was the acting supervisor turned the water off\\nso that field personnel could excavate and locate the leak.  The acting supervisor could\\nsee a portion of the pulled gas service line above ground and said that he suspected that\\nthe gas service line was severed at some point. Though the acting supervisor could hear\\nthe gas blowing and see the gas bubbling from the water in the excavated ditch, he did not\\nknow  the  direction  in  which  the  gas  was  blowing.    He  told  investigators  that  he  “was\\nhoping” that the line was pulled off at the main and that the gas was blowing up into the\\nair.    He  added  that  he  believed  the  leak  was  routine  and  the  situation  was  safe.    The\\nUtilities Board employees did not check for gas migrating underground or accumulating\\nin buildings and did not stop the flow of gas.  After the acting supervisor turned off the\\nwater,  a  Utilities  Board  employee  started  digging  to  remove  water  and  soil  from  the\\ntrench with a backhoe.  By this time, the owner of R&B, because he was a Utilities Board\\nemployee and was paged, had arrived at the excavation site.\\n                                                \\n\\n4 The Superintendent of the Utilities Board told Safety Board investigators that the Utilities Board uses\\n\\nyellow paint to mark gas lines and blue paint to mark water lines.\\n\\nNTSB/PAB-00/01\\n\\n\\x0c5\\n\\nShortly after the Utilities Board backhoe operator started digging, the building at\\n406 Alabama Avenue exploded.  The owner of 408 Alabama Avenue, the R&B backhoe\\noperator,  and  a  Utilities  Board  employee  received  fatal  injuries.    Five  other  people,\\nincluding a bystander, received serious injuries, and one person received a minor injury.\\n\\nThe  Alabama  State  Fire  Marshals  Office  determined  that  the  likely  source  of\\nignition for the accumulated natural gas was a gas-fired heater at 406 Alabama Avenue,\\nwhich  had  an  active  pilot  light  at  the  time  of  explosion.5    The  Superintendent  of  the\\nUtilities Board estimated that within 5  to  10  minutes  after  the  explosion  he  had  closed\\ntwo valves on the 4-inch natural gas main feeding the natural gas to the broken service\\nline.\\n\\nR&B Construction\\n\\nR&B is a small construction company that employs part-time employees.  At the\\ntime of the accident, it did not have employee qualification and training records or written\\nprocedures for excavating near underground utility lines.\\n\\nRecognizing that damages to underground facilities are usually  preventable,  and\\nmost frequently occur due to a breakdown in the damage prevention process, Government\\nand  industry  have  been  working  to  identify  and  validate  existing  best  practices  for\\npreventing  damage  to  underground  facilities.    The  resulting  Common  Ground  study  of\\none-call  systems  and  damage  prevention  best  practices6  discusses,  among  other  best\\npractices, the need to “call before you dig.”  The study recommends, “Unless otherwise\\nspecified in state law, the  excavator  calls  the  one-call  center  at  least  two  working  days\\nand no more than ten working days prior to beginning excavation.”7  It also recommends\\nthat an excavator observe a “tolerance zone” that includes the width of the facility plus 18\\ninches on either side and asks that excavators exercise reasonable care when excavating\\nwithin the tolerance zone to protect the underground facilities.\\n\\n                                                \\n\\n5 Although the  gas  line  had  separated  underground,  the  compacted  earth  surrounding  the  line  would\\n\\nhave provided a path that allowed continued gas flow sufficient to have fueled the pilot light.\\n\\n6  Common  Ground:  Study  of  One-Call  Systems  and  Damage  Prevention  Best  Practices,  U.S.\\nDepartment of Transportation, Research and Special  Programs  Administration,  Office  of  Pipeline  Safety,\\nWashington, D.C., August 1999.  The Common Ground study, as authorized by the Transportation Equity\\nAct for the 21st Century (TEA 21), was prepared by more than 160 individuals representing a wide range of\\ninterests,  organizations,  and  viewpoints  on  preventing  damage  to  underground  utilities.    A  nonprofit\\norganization, the Common Ground Alliance, has been formed to implement the best practices discussed in\\nthe Common Ground study.\\n\\n7 Alabama State law is similar to this recommendation.\\n\\nNTSB/PAB-00/01\\n\\n\\x0c6\\n\\nBridgeport Utilities Board Procedures for Responding to\\nPipeline Emergencies\\n\\nThe  Utilities  Board’s  written  emergency  procedures  in  effect  at  the  time  of  the\\nJanuary  22,  1999,  accident  instruct  service  personnel  to  “…evaluate  the  extent  of  the\\nemergency,  request  assistance  as  needed,  and  inform  the  manager  if  necessary.”    The\\nprocedures further direct service personnel to:\\n\\nEvacuate  and  secure  the  area  if  necessary.  Actions  should  be  directed\\ntowards protecting people first and then property.\\n\\n…If, in the opinion of the person in charge, the emergency is so severe that\\nimmediate shutdown is imperative, he may do so without clearance from\\nthe Manager.\\n\\nHowever,  the  procedures  do  not  instruct  employees  responding  to  a  reported  leak  to\\nconsider the possibility of multiple leaks, check for gas accumulation in nearby buildings,\\nand, if necessary, to take steps to promptly stop the flow of gas.\\n\\nDuring its annual inspections of the Utilities Board, the Alabama Public Service\\nCommission  did  not  identify  any  deficiencies  in  the  Utility  Board’s  emergency\\nprocedures.    Since  the  accident,  the  emergency  procedures  have  been  changed  only  to\\nupdate the names, addresses, and phone numbers of contact persons and employees.\\n\\nProbable Cause\\n\\nThe National Transportation Safety Board determines that the probable cause of\\nthe accident was the failure of R&B Construction to establish and follow safe procedures\\nfor excavation activities, resulting in damage to a ¾-inch natural gas service line, and the\\nfailure of the Utilities Board of the City of Bridgeport to provide appropriate emergency\\nresponse to the resulting natural gas leak.\\n\\nAdopted: November 28, 2000\\n\\nNTSB/PAB-00/01\\n\\n\\x0c'"
      ]
     },
     "execution_count": 4,
     "metadata": {},
     "output_type": "execute_result"
    }
   ],
   "source": [
    "text_lst[0]"
   ]
  },
  {
   "cell_type": "code",
   "execution_count": 9,
   "metadata": {},
   "outputs": [
    {
     "data": {
      "text/plain": [
       "[]"
      ]
     },
     "execution_count": 9,
     "metadata": {},
     "output_type": "execute_result"
    }
   ],
   "source": [
    "t = re.findall(r'[A-Z].*\\\\n', text_lst[0])\n",
    "t"
   ]
  },
  {
   "cell_type": "code",
   "execution_count": 82,
   "metadata": {
    "collapsed": true,
    "scrolled": true
   },
   "outputs": [],
   "source": [
    "dates = []\n",
    "dates.append(re.findall(r'(?<=Pipeline Accident Brief).*', text_lst[0]))"
   ]
  },
  {
   "cell_type": "code",
   "execution_count": 59,
   "metadata": {},
   "outputs": [
    {
     "data": {
      "text/plain": [
       "['']"
      ]
     },
     "execution_count": 59,
     "metadata": {},
     "output_type": "execute_result"
    }
   ],
   "source": [
    "dates[0]"
   ]
  },
  {
   "cell_type": "code",
   "execution_count": 95,
   "metadata": {},
   "outputs": [
    {
     "data": {
      "text/plain": [
       "['A L   T',\n",
       " '',\n",
       " ' ',\n",
       " '',\n",
       " 'N',\n",
       " 'O',\n",
       " 'I',\n",
       " 'T',\n",
       " 'A',\n",
       " '',\n",
       " 'N',\n",
       " '',\n",
       " ' ',\n",
       " '',\n",
       " 'R A SP',\n",
       " '',\n",
       " 'N',\n",
       " ' ',\n",
       " '',\n",
       " 'O',\n",
       " '',\n",
       " 'L U R IBUS UNUM  ',\n",
       " '',\n",
       " 'E P',\n",
       " '',\n",
       " 'R',\n",
       " '',\n",
       " 'T',\n",
       " '',\n",
       " 'A',\n",
       " '',\n",
       " 'T',\n",
       " '',\n",
       " 'I',\n",
       " '',\n",
       " 'O',\n",
       " 'N',\n",
       " '',\n",
       " 'National Transportation Safety Board',\n",
       " '',\n",
       " 'Washington, D.C. 20594',\n",
       " '',\n",
       " 'S',\n",
       " '',\n",
       " 'A',\n",
       " '',\n",
       " 'FETY',\n",
       " '',\n",
       " ' ',\n",
       " '',\n",
       " ' B O A R D',\n",
       " '',\n",
       " 'Accident No.:',\n",
       " 'Type of System:',\n",
       " 'Type of Accident:',\n",
       " 'Location:',\n",
       " 'Date and Time:',\n",
       " 'Owner/Operator:',\n",
       " 'Property Damage and Losses:',\n",
       " 'Fatalities:',\n",
       " 'Injuries:',\n",
       " 'Material Released:',\n",
       " 'Pressure:',\n",
       " 'Type of Failure:',\n",
       " 'Component Affected:',\n",
       " '',\n",
       " 'The Accident',\n",
       " '',\n",
       " 'Pipeline Accident Brief',\n",
       " '',\n",
       " 'DCA-99-MP-004',\n",
       " 'Natural gas service line',\n",
       " 'Rupture, explosion, and fire',\n",
       " 'Bridgeport, Alabama',\n",
       " 'January 22, 1999, 10:02 a.m. CST',\n",
       " 'Utilities Board of the City of Bridgeport',\n",
       " '$1.4 million',\n",
       " '3',\n",
       " '6',\n",
       " 'Natural gas',\n",
       " '35 psig',\n",
       " 'Excavation damage',\n",
       " '\\xc2\\xbe-inch steel gas service line',\n",
       " '',\n",
       " 'On January 22, 1999, while digging a trench behind a building  at  406  Alabama',\n",
       " 'Avenue, a backhoe operator damaged a \\xc2\\xbe-inch steel natural gas service line and a 1-inch',\n",
       " 'water service line.  This resulted in two leaks in the natural gas service line, which was',\n",
       " 'operated  at  35  psig.    One  leak  occurred  where  the  backhoe  bucket  had  contacted  and',\n",
       " 'pulled the natural gas service line.  (See figure 1.)  The other was a physical separation of',\n",
       " 'the  gas  service  line  at  an  underground  joint  near  the  meter,  which  was  close  to  the',\n",
       " 'building.  Gas migrated into the building at 406 Alabama Avenue, where it ignited about',\n",
       " '10:02  a.m.    An  explosion  followed,  destroying  three  buildings:    404,  406,  and',\n",
       " '408 Alabama  Avenue  (see  figure  2).    Other  buildings  within  a  two-block  area  of  the',\n",
       " 'explosion sustained significant damage.  Three fatalities, five serious injuries,1 and  one',\n",
       " 'minor injury resulted from this accident.',\n",
       " '',\n",
       " '                                                ',\n",
       " '',\n",
       " '1  According  to  the  Jackson  County  Coroner,  on  March  23,  2000,  14  months  and  1  day  after  the',\n",
       " 'accident,  one  of  the  seriously  injured  persons  died  as  a  result  of  injuries  sustained  in  the  explosion.    In',\n",
       " 'accordance  with  49  Code  of  Federal  Regulations  (CFR)  830.2,  his  injuries  continue  to  be  classified  as',\n",
       " '\\xe2\\x80\\x9cserious\\xe2\\x80\\x9d for reporting purposes.  Title 49 CFR 830.2 defines fatal injury as \\xe2\\x80\\x9cany injury which results in',\n",
       " 'death within 30 days of the accident.\\xe2\\x80\\x9d',\n",
       " '',\n",
       " 'NTSB/PAB-00/01',\n",
       " '',\n",
       " '\\x0c2',\n",
       " '',\n",
       " 'Figure  1.  Damaged  section  of  the  gas  service  line  to  406  Alabama  Avenue.',\n",
       " '(Arrow shows leak location. Note how the bowed area corresponds with the width of a',\n",
       " 'backhoe bucket.)',\n",
       " '',\n",
       " 'Figure 2. Damage to 404, 406, and 408 Alabama Avenue',\n",
       " '',\n",
       " 'NTSB/PAB-00/01',\n",
       " '',\n",
       " '\\x0cPreaccident Events',\n",
       " '',\n",
       " '3',\n",
       " '',\n",
       " 'The owner of R&B Construction (R&B) told investigators that the owner of 408',\n",
       " 'Alabama  Avenue  had  hired  R&B  to  dig  a  trench  from  an  electric  pole  behind  404',\n",
       " 'Alabama Avenue to his building for an underground electric service cable.  (See figure 3.)',\n",
       " 'The owner of R&B told investigators that he had not planned beforehand to dig the trench',\n",
       " 'to  408  Alabama  Avenue  on  the  morning  of  the  accident  and  that  he  did  not  call  the',\n",
       " 'Alabama  Line  Location  Center,  Inc.2    However,  when  a  part-time  employee,  who  had',\n",
       " 'operated a backhoe for R&B in the past, arrived at the R&B office the morning of January',\n",
       " '22 looking for work, the owner of R&B decided to have the employee dig the trench that',\n",
       " 'day.',\n",
       " '',\n",
       " 'Figure 3. Schematic of accident area',\n",
       " '',\n",
       " 'The owner of R&B was a full-time employee of the Utilities Board of the City of',\n",
       " 'Bridgeport  (Utilities  Board)  at  the  time  of  the  accident.3    He  and  a  Utilities  Board',\n",
       " 'coworker,  who  was  the  acting  supervisor  of  the  Utilities  Board  field  personnel  on  the',\n",
       " 'morning  of  the  accident,  told  Safety  Board  investigators  that  on  the  way  to  work  that',\n",
       " 'morning,  they  located  and  marked  the  gas  and  water  service  lines  for  the  trenching',\n",
       " '',\n",
       " '                                                ',\n",
       " '',\n",
       " '2 Since the accident, the Alabama Line Location Center has been redesignated Alabama One Call.',\n",
       " '3 The Utilities Board owns and operates Bridgeport\\xe2\\x80\\x99s water and natural gas distribution systems.',\n",
       " '',\n",
       " 'NTSB/PAB-00/01',\n",
       " '',\n",
       " '\\x0c4',\n",
       " '',\n",
       " 'activity.    The  owner  of  R&B  told  investigators  that  blue  paint  was  used  to  mark  both',\n",
       " 'service lines because that was the only paint that they had.4  Upon their arrival the day',\n",
       " 'after  the  explosion,  Safety  Board  investigators  could  not  find  any  blue  or  other  line',\n",
       " 'markings on the ground at the accident scene. Representatives from the Alabama Public',\n",
       " 'Service  Commission  and  the  Alabama  State  Fire  Marshals  Office  also  did  not  observe',\n",
       " 'any markings on the ground when they arrived at the accident scene within hours of the',\n",
       " 'explosion.',\n",
       " '',\n",
       " 'The  owner  of  R&B  and  the  acting  supervisor  left  the  excavation  site  about',\n",
       " '8:15 a.m. to go to the Utilities Board shop.  They told investigators that, before they left,',\n",
       " 'they had asked the owner of 408 Alabama Avenue to watch the backhoe operator.  The',\n",
       " 'R&B backhoe operator arrived at the excavation  site  some  time  after  8:15  a.m.    While',\n",
       " 'digging the trench, the backhoe operator damaged the underground gas and water service',\n",
       " 'lines to 406 Alabama Avenue, resulting in leaks in the water and gas service lines.  About',\n",
       " '9:15  a.m.,  the  owner  of  408  Alabama  Avenue  went  to  the  Utilities  Board  office  at',\n",
       " '513 Alabama  Avenue  and  reported  the  excavation  damage.    He  then  returned  to  the',\n",
       " 'excavation  site.    The  General  Manager  of  the  Utilities  Board  said  the  owner  of',\n",
       " '408 Alabama  Avenue  reported  that  the  water  line  and  possibly  the  gas  line  were',\n",
       " 'damaged.',\n",
       " '',\n",
       " 'The Utilities Board paged its field personnel between 9:18 and 9:22 a.m.  Shortly',\n",
       " 'afterward,  five  Utilities  Board  employees  responded  to  the  excavation  site  from  three',\n",
       " 'locations to locate and repair the leaks.  One of the Utilities Board employees told Safety',\n",
       " 'Board investigators that upon his arrival at the accident scene, the R&B backhoe operator',\n",
       " 'showed him where he had wrapped black tape over the leak in the gas service line.  In',\n",
       " 'addition, he and other Utilities Board employees noticed that water was running on the',\n",
       " 'ground.  They could hear the hissing of leaking gas and smell a strong natural gas odor in',\n",
       " 'the general area.',\n",
       " '',\n",
       " 'The Utilities Board employee who was the acting supervisor turned the water off',\n",
       " 'so that field personnel could excavate and locate the leak.  The acting supervisor could',\n",
       " 'see a portion of the pulled gas service line above ground and said that he suspected that',\n",
       " 'the gas service line was severed at some point. Though the acting supervisor could hear',\n",
       " 'the gas blowing and see the gas bubbling from the water in the excavated ditch, he did not',\n",
       " 'know  the  direction  in  which  the  gas  was  blowing.    He  told  investigators  that  he  \\xe2\\x80\\x9cwas',\n",
       " 'hoping\\xe2\\x80\\x9d that the line was pulled off at the main and that the gas was blowing up into the',\n",
       " 'air.    He  added  that  he  believed  the  leak  was  routine  and  the  situation  was  safe.    The',\n",
       " 'Utilities Board employees did not check for gas migrating underground or accumulating',\n",
       " 'in buildings and did not stop the flow of gas.  After the acting supervisor turned off the',\n",
       " 'water,  a  Utilities  Board  employee  started  digging  to  remove  water  and  soil  from  the',\n",
       " 'trench with a backhoe.  By this time, the owner of R&B, because he was a Utilities Board',\n",
       " 'employee and was paged, had arrived at the excavation site.',\n",
       " '                                                ',\n",
       " '',\n",
       " '4 The Superintendent of the Utilities Board told Safety Board investigators that the Utilities Board uses',\n",
       " '',\n",
       " 'yellow paint to mark gas lines and blue paint to mark water lines.',\n",
       " '',\n",
       " 'NTSB/PAB-00/01',\n",
       " '',\n",
       " '\\x0c5',\n",
       " '',\n",
       " 'Shortly after the Utilities Board backhoe operator started digging, the building at',\n",
       " '406 Alabama Avenue exploded.  The owner of 408 Alabama Avenue, the R&B backhoe',\n",
       " 'operator,  and  a  Utilities  Board  employee  received  fatal  injuries.    Five  other  people,',\n",
       " 'including a bystander, received serious injuries, and one person received a minor injury.',\n",
       " '',\n",
       " 'The  Alabama  State  Fire  Marshals  Office  determined  that  the  likely  source  of',\n",
       " 'ignition for the accumulated natural gas was a gas-fired heater at 406 Alabama Avenue,',\n",
       " 'which  had  an  active  pilot  light  at  the  time  of  explosion.5    The  Superintendent  of  the',\n",
       " 'Utilities Board estimated that within 5  to  10  minutes  after  the  explosion  he  had  closed',\n",
       " 'two valves on the 4-inch natural gas main feeding the natural gas to the broken service',\n",
       " 'line.',\n",
       " '',\n",
       " 'R&B Construction',\n",
       " '',\n",
       " 'R&B is a small construction company that employs part-time employees.  At the',\n",
       " 'time of the accident, it did not have employee qualification and training records or written',\n",
       " 'procedures for excavating near underground utility lines.',\n",
       " '',\n",
       " 'Recognizing that damages to underground facilities are usually  preventable,  and',\n",
       " 'most frequently occur due to a breakdown in the damage prevention process, Government',\n",
       " 'and  industry  have  been  working  to  identify  and  validate  existing  best  practices  for',\n",
       " 'preventing  damage  to  underground  facilities.    The  resulting  Common  Ground  study  of',\n",
       " 'one-call  systems  and  damage  prevention  best  practices6  discusses,  among  other  best',\n",
       " 'practices, the need to \\xe2\\x80\\x9ccall before you dig.\\xe2\\x80\\x9d  The study recommends, \\xe2\\x80\\x9cUnless otherwise',\n",
       " 'specified in state law, the  excavator  calls  the  one-call  center  at  least  two  working  days',\n",
       " 'and no more than ten working days prior to beginning excavation.\\xe2\\x80\\x9d7  It also recommends',\n",
       " 'that an excavator observe a \\xe2\\x80\\x9ctolerance zone\\xe2\\x80\\x9d that includes the width of the facility plus 18',\n",
       " 'inches on either side and asks that excavators exercise reasonable care when excavating',\n",
       " 'within the tolerance zone to protect the underground facilities.',\n",
       " '',\n",
       " '                                                ',\n",
       " '',\n",
       " '5 Although the  gas  line  had  separated  underground,  the  compacted  earth  surrounding  the  line  would',\n",
       " '',\n",
       " 'have provided a path that allowed continued gas flow sufficient to have fueled the pilot light.',\n",
       " '',\n",
       " '6  Common  Ground:  Study  of  One-Call  Systems  and  Damage  Prevention  Best  Practices,  U.S.',\n",
       " 'Department of Transportation, Research and Special  Programs  Administration,  Office  of  Pipeline  Safety,',\n",
       " 'Washington, D.C., August 1999.  The Common Ground study, as authorized by the Transportation Equity',\n",
       " 'Act for the 21st Century (TEA 21), was prepared by more than 160 individuals representing a wide range of',\n",
       " 'interests,  organizations,  and  viewpoints  on  preventing  damage  to  underground  utilities.    A  nonprofit',\n",
       " 'organization, the Common Ground Alliance, has been formed to implement the best practices discussed in',\n",
       " 'the Common Ground study.',\n",
       " '',\n",
       " '7 Alabama State law is similar to this recommendation.',\n",
       " '',\n",
       " 'NTSB/PAB-00/01',\n",
       " '',\n",
       " '\\x0c6',\n",
       " '',\n",
       " 'Bridgeport Utilities Board Procedures for Responding to',\n",
       " 'Pipeline Emergencies',\n",
       " '',\n",
       " 'The  Utilities  Board\\xe2\\x80\\x99s  written  emergency  procedures  in  effect  at  the  time  of  the',\n",
       " 'January  22,  1999,  accident  instruct  service  personnel  to  \\xe2\\x80\\x9c\\xe2\\x80\\xa6evaluate  the  extent  of  the',\n",
       " 'emergency,  request  assistance  as  needed,  and  inform  the  manager  if  necessary.\\xe2\\x80\\x9d    The',\n",
       " 'procedures further direct service personnel to:',\n",
       " '',\n",
       " 'Evacuate  and  secure  the  area  if  necessary.  Actions  should  be  directed',\n",
       " 'towards protecting people first and then property.',\n",
       " '',\n",
       " '\\xe2\\x80\\xa6If, in the opinion of the person in charge, the emergency is so severe that',\n",
       " 'immediate shutdown is imperative, he may do so without clearance from',\n",
       " 'the Manager.',\n",
       " '',\n",
       " 'However,  the  procedures  do  not  instruct  employees  responding  to  a  reported  leak  to',\n",
       " 'consider the possibility of multiple leaks, check for gas accumulation in nearby buildings,',\n",
       " 'and, if necessary, to take steps to promptly stop the flow of gas.',\n",
       " '',\n",
       " 'During its annual inspections of the Utilities Board, the Alabama Public Service',\n",
       " 'Commission  did  not  identify  any  deficiencies  in  the  Utility  Board\\xe2\\x80\\x99s  emergency',\n",
       " 'procedures.    Since  the  accident,  the  emergency  procedures  have  been  changed  only  to',\n",
       " 'update the names, addresses, and phone numbers of contact persons and employees.',\n",
       " '',\n",
       " 'Probable Cause',\n",
       " '',\n",
       " 'The National Transportation Safety Board determines that the probable cause of',\n",
       " 'the accident was the failure of R&B Construction to establish and follow safe procedures',\n",
       " 'for excavation activities, resulting in damage to a \\xc2\\xbe-inch natural gas service line, and the',\n",
       " 'failure of the Utilities Board of the City of Bridgeport to provide appropriate emergency',\n",
       " 'response to the resulting natural gas leak.',\n",
       " '',\n",
       " 'Adopted: November 28, 2000',\n",
       " '',\n",
       " 'NTSB/PAB-00/01',\n",
       " '',\n",
       " '\\x0c']"
      ]
     },
     "execution_count": 95,
     "metadata": {},
     "output_type": "execute_result"
    }
   ],
   "source": [
    "\"\".join(text_lst[0]).split(\"\\n\")"
   ]
  },
  {
   "cell_type": "code",
   "execution_count": null,
   "metadata": {
    "collapsed": true
   },
   "outputs": [],
   "source": []
  }
 ],
 "metadata": {
  "kernelspec": {
   "display_name": "Python 3",
   "language": "python",
   "name": "python3"
  },
  "language_info": {
   "codemirror_mode": {
    "name": "ipython",
    "version": 3
   },
   "file_extension": ".py",
   "mimetype": "text/x-python",
   "name": "python",
   "nbconvert_exporter": "python",
   "pygments_lexer": "ipython3",
   "version": "3.6.0"
  }
 },
 "nbformat": 4,
 "nbformat_minor": 2
}
